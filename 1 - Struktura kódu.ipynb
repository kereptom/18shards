{
 "cells": [
  {
   "cell_type": "markdown",
   "metadata": {},
   "source": [
    "# Struktura kódu"
   ]
  },
  {
   "cell_type": "code",
   "execution_count": 1,
   "metadata": {},
   "outputs": [],
   "source": [
    "def ZjistiMzdu(mzda):\n",
    "    if mzda > 9200:\n",
    "        print(\"Vetsi nez minimalni!\")\n",
    "        if mzda > 26287:\n",
    "            print(\"Vetsi nez prumerna!\")\n",
    "        else:\n",
    "            print(\"Mensi nez prumerna!\")\n",
    "    else:\n",
    "        print(\"Oou, mensi nez minimalni!\")"
   ]
  },
  {
   "cell_type": "code",
   "execution_count": 2,
   "metadata": {},
   "outputs": [
    {
     "name": "stdout",
     "output_type": "stream",
     "text": [
      "Vetsi nez minimalni!\n",
      "Vetsi nez prumerna!\n"
     ]
    }
   ],
   "source": [
    "ZjistiMzdu(100000)"
   ]
  },
  {
   "cell_type": "code",
   "execution_count": null,
   "metadata": {
    "collapsed": true
   },
   "outputs": [],
   "source": []
  }
 ],
 "metadata": {
  "kernelspec": {
   "display_name": "Python 3",
   "language": "python",
   "name": "python3"
  },
  "language_info": {
   "codemirror_mode": {
    "name": "ipython",
    "version": 3
   },
   "file_extension": ".py",
   "mimetype": "text/x-python",
   "name": "python",
   "nbconvert_exporter": "python",
   "pygments_lexer": "ipython3",
   "version": "3.7.3"
  }
 },
 "nbformat": 4,
 "nbformat_minor": 1
}
