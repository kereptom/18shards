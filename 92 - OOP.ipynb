{
 "cells": [
  {
   "cell_type": "markdown",
   "metadata": {},
   "source": [
    "# Objekty\n",
    "V pythonu je všechno objekt"
   ]
  },
  {
   "cell_type": "code",
   "execution_count": 1,
   "metadata": {},
   "outputs": [
    {
     "data": {
      "text/plain": [
       "[1, 2]"
      ]
     },
     "execution_count": 1,
     "metadata": {},
     "output_type": "execute_result"
    }
   ],
   "source": [
    "list1 = [2,1]\n",
    "list1.sort()\n",
    "list1"
   ]
  },
  {
   "cell_type": "code",
   "execution_count": 3,
   "metadata": {},
   "outputs": [
    {
     "name": "stdout",
     "output_type": "stream",
     "text": [
      "Povím Ti Ahoj\n"
     ]
    }
   ],
   "source": [
    "class Clovek(object):\n",
    "    def Clovek(self):\n",
    "        print(\"Jsem clovek\")\n",
    "    \n",
    "    def promluv(self, slovo):    \n",
    "        print(f'Povím Ti {slovo}')\n",
    "        \n",
    "Petr = Clovek()                        \n",
    "Petr.promluv(\"Ahoj\")                    \n"
   ]
  },
  {
   "cell_type": "markdown",
   "metadata": {},
   "source": [
    "## Python umí OOP (ale)\n",
    "\n",
    "* Konstruktor pomocí \\_\\_init__()\n",
    "* Úplné zapouzdření není, dodržuje se konvence \"_\"\n",
    "* Dědičnost i vícenásobná (dědí se i konstruktor)\n",
    "* Polymorfismus\n",
    "* aj."
   ]
  },
  {
   "cell_type": "code",
   "execution_count": 4,
   "metadata": {},
   "outputs": [
    {
     "data": {
      "text/html": [
       "<img src=\"http://www.itnetwork.cz/images/img/polymorphism.gif\" width=\"700\"/>"
      ],
      "text/plain": [
       "<IPython.core.display.Image object>"
      ]
     },
     "execution_count": 4,
     "metadata": {},
     "output_type": "execute_result"
    }
   ],
   "source": [
    "from IPython.display import Image\n",
    "Image(url='http://www.itnetwork.cz/images/img/polymorphism.gif', width=700)"
   ]
  },
  {
   "cell_type": "code",
   "execution_count": null,
   "metadata": {
    "collapsed": true
   },
   "outputs": [],
   "source": []
  }
 ],
 "metadata": {
  "kernelspec": {
   "display_name": "Python 3",
   "language": "python",
   "name": "python3"
  },
  "language_info": {
   "codemirror_mode": {
    "name": "ipython",
    "version": 3
   },
   "file_extension": ".py",
   "mimetype": "text/x-python",
   "name": "python",
   "nbconvert_exporter": "python",
   "pygments_lexer": "ipython3",
   "version": "3.7.3"
  }
 },
 "nbformat": 4,
 "nbformat_minor": 1
}
